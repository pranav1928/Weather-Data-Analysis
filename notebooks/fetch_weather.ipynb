{
 "cells": [
  {
   "cell_type": "code",
   "execution_count": null,
   "metadata": {},
   "outputs": [],
   "source": [
    "import requests\n",
    "import pandas as pd\n",
    "import time\n",
    "\n",
    "API_KEY = \"690ab52565b015832eb4de257f446e05\"\n",
    "CITY = \"Mumbai\"\n",
    "BASE_URL = \"https://api.openweathermap.org/data/2.5/weather\"\n",
    "\n",
    "def fetch_weather():\n",
    "    url = f\"{BASE_URL}?q={CITY}&appid={API_KEY}&units=metric\"\n",
    "    response = requests.get(url)\n",
    "    data = response.json()\n",
    "    \n",
    "    if response.status_code == 200:\n",
    "        weather = {\n",
    "            \"timestamp\": pd.Timestamp.now(),\n",
    "            \"city\": CITY,\n",
    "            \"temperature\": data[\"main\"][\"temp\"],\n",
    "            \"humidity\": data[\"main\"][\"humidity\"],\n",
    "            \"pressure\": data[\"main\"][\"pressure\"],\n",
    "            \"weather\": data[\"weather\"][0][\"description\"]\n",
    "        }\n",
    "        return weather\n",
    "    else:\n",
    "        print(\"Error:\", data)\n",
    "        return None\n",
    "\n",
    "# Save data in CSV\n",
    "if __name__ == \"__main__\":\n",
    "    weather_data = []\n",
    "    for i in range(10):  # Fetch data 10 times\n",
    "        data = fetch_weather()\n",
    "        if data:\n",
    "            weather_data.append(data)\n",
    "            print(f\"Fetched: {data}\")\n",
    "        time.sleep(60)  # Wait 1 minute before next request\n",
    "\n",
    "    df = pd.DataFrame(weather_data)\n",
    "    df.to_csv(\"data/weather_data.csv\", index=False)\n"
   ]
  }
 ],
 "metadata": {
  "kernelspec": {
   "display_name": "Python 3",
   "language": "python",
   "name": "python3"
  },
  "language_info": {
   "name": "python",
   "version": "3.11.0"
  }
 },
 "nbformat": 4,
 "nbformat_minor": 2
}
